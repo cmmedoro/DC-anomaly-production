{
 "cells": [
  {
   "cell_type": "markdown",
   "metadata": {},
   "source": [
    "In this notebook we are going to perform an exploratory analysis of the data regarding the power production collected from the DATA CELLAR API."
   ]
  },
  {
   "cell_type": "code",
   "execution_count": 1,
   "metadata": {},
   "outputs": [],
   "source": [
    "import numpy as np\n",
    "import warnings\n",
    "warnings.filterwarnings('ignore')\n",
    "import json\n",
    "import pandas as pd"
   ]
  },
  {
   "cell_type": "markdown",
   "metadata": {},
   "source": [
    "### Obtain the dataset"
   ]
  },
  {
   "cell_type": "code",
   "execution_count": 2,
   "metadata": {},
   "outputs": [],
   "source": [
    "file = \"/nfs/home/medoro/Unsupervised_Anomaly_Detection_thesis/data/power_production.json\""
   ]
  },
  {
   "cell_type": "code",
   "execution_count": 3,
   "metadata": {},
   "outputs": [],
   "source": [
    "with open(file) as train_file:\n",
    "    dict_train = json.load(train_file)"
   ]
  },
  {
   "cell_type": "code",
   "execution_count": 4,
   "metadata": {},
   "outputs": [
    {
     "data": {
      "text/html": [
       "<div>\n",
       "<style scoped>\n",
       "    .dataframe tbody tr th:only-of-type {\n",
       "        vertical-align: middle;\n",
       "    }\n",
       "\n",
       "    .dataframe tbody tr th {\n",
       "        vertical-align: top;\n",
       "    }\n",
       "\n",
       "    .dataframe thead th {\n",
       "        text-align: right;\n",
       "    }\n",
       "</style>\n",
       "<table border=\"1\" class=\"dataframe\">\n",
       "  <thead>\n",
       "    <tr style=\"text-align: right;\">\n",
       "      <th></th>\n",
       "      <th>index</th>\n",
       "      <th>_id</th>\n",
       "      <th>user_id</th>\n",
       "      <th>local_date_str</th>\n",
       "      <th>datetime</th>\n",
       "      <th>data</th>\n",
       "    </tr>\n",
       "  </thead>\n",
       "  <tbody>\n",
       "    <tr>\n",
       "      <th>0</th>\n",
       "      <td>0</td>\n",
       "      <td>6500634d2838e89d806105d7</td>\n",
       "      <td>ES0184000000051513CQ0FA000</td>\n",
       "      <td>2023-05-22</td>\n",
       "      <td>2023-05-21T22:00:00</td>\n",
       "      <td>{'type': 'b11', 'generation_kwh': 0, 'nominal_...</td>\n",
       "    </tr>\n",
       "    <tr>\n",
       "      <th>1</th>\n",
       "      <td>1</td>\n",
       "      <td>6500634d2838e89d806105d6</td>\n",
       "      <td>ES0184000000051513CQ0FA000</td>\n",
       "      <td>2023-05-22</td>\n",
       "      <td>2023-05-21T23:00:00</td>\n",
       "      <td>{'type': 'b11', 'generation_kwh': 0, 'nominal_...</td>\n",
       "    </tr>\n",
       "    <tr>\n",
       "      <th>2</th>\n",
       "      <td>2</td>\n",
       "      <td>6500634d2838e89d806105d5</td>\n",
       "      <td>ES0184000000051513CQ0FA000</td>\n",
       "      <td>2023-05-22</td>\n",
       "      <td>2023-05-22T00:00:00</td>\n",
       "      <td>{'type': 'b11', 'generation_kwh': 0, 'nominal_...</td>\n",
       "    </tr>\n",
       "    <tr>\n",
       "      <th>3</th>\n",
       "      <td>3</td>\n",
       "      <td>6500634d2838e89d806105d4</td>\n",
       "      <td>ES0184000000051513CQ0FA000</td>\n",
       "      <td>2023-05-22</td>\n",
       "      <td>2023-05-22T01:00:00</td>\n",
       "      <td>{'type': 'b11', 'generation_kwh': 0, 'nominal_...</td>\n",
       "    </tr>\n",
       "    <tr>\n",
       "      <th>4</th>\n",
       "      <td>4</td>\n",
       "      <td>6500634d2838e89d806105d3</td>\n",
       "      <td>ES0184000000051513CQ0FA000</td>\n",
       "      <td>2023-05-22</td>\n",
       "      <td>2023-05-22T02:00:00</td>\n",
       "      <td>{'type': 'b11', 'generation_kwh': 0, 'nominal_...</td>\n",
       "    </tr>\n",
       "    <tr>\n",
       "      <th>...</th>\n",
       "      <td>...</td>\n",
       "      <td>...</td>\n",
       "      <td>...</td>\n",
       "      <td>...</td>\n",
       "      <td>...</td>\n",
       "      <td>...</td>\n",
       "    </tr>\n",
       "    <tr>\n",
       "      <th>4995</th>\n",
       "      <td>4995</td>\n",
       "      <td>6581d5c5d2b2610b28925943</td>\n",
       "      <td>ES0184000000051513CQ0FA000</td>\n",
       "      <td>2023-12-18</td>\n",
       "      <td>2023-12-18T13:00:00</td>\n",
       "      <td>{'type': 'b11', 'generation_kwh': 15.08, 'nomi...</td>\n",
       "    </tr>\n",
       "    <tr>\n",
       "      <th>4996</th>\n",
       "      <td>4996</td>\n",
       "      <td>6581d5c5d2b2610b28925942</td>\n",
       "      <td>ES0184000000051513CQ0FA000</td>\n",
       "      <td>2023-12-18</td>\n",
       "      <td>2023-12-18T14:00:00</td>\n",
       "      <td>{'type': 'b11', 'generation_kwh': 14.9, 'nomin...</td>\n",
       "    </tr>\n",
       "    <tr>\n",
       "      <th>4997</th>\n",
       "      <td>4997</td>\n",
       "      <td>6581d5c5d2b2610b28925941</td>\n",
       "      <td>ES0184000000051513CQ0FA000</td>\n",
       "      <td>2023-12-18</td>\n",
       "      <td>2023-12-18T15:00:00</td>\n",
       "      <td>{'type': 'b11', 'generation_kwh': 13.18, 'nomi...</td>\n",
       "    </tr>\n",
       "    <tr>\n",
       "      <th>4998</th>\n",
       "      <td>4998</td>\n",
       "      <td>6581d5c5d2b2610b28925940</td>\n",
       "      <td>ES0184000000051513CQ0FA000</td>\n",
       "      <td>2023-12-18</td>\n",
       "      <td>2023-12-18T16:00:00</td>\n",
       "      <td>{'type': 'b11', 'generation_kwh': 9.15, 'nomin...</td>\n",
       "    </tr>\n",
       "    <tr>\n",
       "      <th>4999</th>\n",
       "      <td>4999</td>\n",
       "      <td>6581d5c5d2b2610b2892593f</td>\n",
       "      <td>ES0184000000051513CQ0FA000</td>\n",
       "      <td>2023-12-18</td>\n",
       "      <td>2023-12-18T17:00:00</td>\n",
       "      <td>{'type': 'b11', 'generation_kwh': 1.78, 'nomin...</td>\n",
       "    </tr>\n",
       "  </tbody>\n",
       "</table>\n",
       "<p>5000 rows × 6 columns</p>\n",
       "</div>"
      ],
      "text/plain": [
       "      index                       _id                     user_id  \\\n",
       "0         0  6500634d2838e89d806105d7  ES0184000000051513CQ0FA000   \n",
       "1         1  6500634d2838e89d806105d6  ES0184000000051513CQ0FA000   \n",
       "2         2  6500634d2838e89d806105d5  ES0184000000051513CQ0FA000   \n",
       "3         3  6500634d2838e89d806105d4  ES0184000000051513CQ0FA000   \n",
       "4         4  6500634d2838e89d806105d3  ES0184000000051513CQ0FA000   \n",
       "...     ...                       ...                         ...   \n",
       "4995   4995  6581d5c5d2b2610b28925943  ES0184000000051513CQ0FA000   \n",
       "4996   4996  6581d5c5d2b2610b28925942  ES0184000000051513CQ0FA000   \n",
       "4997   4997  6581d5c5d2b2610b28925941  ES0184000000051513CQ0FA000   \n",
       "4998   4998  6581d5c5d2b2610b28925940  ES0184000000051513CQ0FA000   \n",
       "4999   4999  6581d5c5d2b2610b2892593f  ES0184000000051513CQ0FA000   \n",
       "\n",
       "     local_date_str             datetime  \\\n",
       "0        2023-05-22  2023-05-21T22:00:00   \n",
       "1        2023-05-22  2023-05-21T23:00:00   \n",
       "2        2023-05-22  2023-05-22T00:00:00   \n",
       "3        2023-05-22  2023-05-22T01:00:00   \n",
       "4        2023-05-22  2023-05-22T02:00:00   \n",
       "...             ...                  ...   \n",
       "4995     2023-12-18  2023-12-18T13:00:00   \n",
       "4996     2023-12-18  2023-12-18T14:00:00   \n",
       "4997     2023-12-18  2023-12-18T15:00:00   \n",
       "4998     2023-12-18  2023-12-18T16:00:00   \n",
       "4999     2023-12-18  2023-12-18T17:00:00   \n",
       "\n",
       "                                                   data  \n",
       "0     {'type': 'b11', 'generation_kwh': 0, 'nominal_...  \n",
       "1     {'type': 'b11', 'generation_kwh': 0, 'nominal_...  \n",
       "2     {'type': 'b11', 'generation_kwh': 0, 'nominal_...  \n",
       "3     {'type': 'b11', 'generation_kwh': 0, 'nominal_...  \n",
       "4     {'type': 'b11', 'generation_kwh': 0, 'nominal_...  \n",
       "...                                                 ...  \n",
       "4995  {'type': 'b11', 'generation_kwh': 15.08, 'nomi...  \n",
       "4996  {'type': 'b11', 'generation_kwh': 14.9, 'nomin...  \n",
       "4997  {'type': 'b11', 'generation_kwh': 13.18, 'nomi...  \n",
       "4998  {'type': 'b11', 'generation_kwh': 9.15, 'nomin...  \n",
       "4999  {'type': 'b11', 'generation_kwh': 1.78, 'nomin...  \n",
       "\n",
       "[5000 rows x 6 columns]"
      ]
     },
     "execution_count": 4,
     "metadata": {},
     "output_type": "execute_result"
    }
   ],
   "source": [
    "# converting json dataset from dictionary to dataframe\n",
    "train = pd.DataFrame.from_dict(dict_train)\n",
    "train.reset_index(level=0, inplace=True)\n",
    "train"
   ]
  },
  {
   "cell_type": "code",
   "execution_count": 5,
   "metadata": {},
   "outputs": [
    {
     "data": {
      "text/plain": [
       "1"
      ]
     },
     "execution_count": 5,
     "metadata": {},
     "output_type": "execute_result"
    }
   ],
   "source": [
    "train.user_id.nunique()"
   ]
  },
  {
   "cell_type": "code",
   "execution_count": 6,
   "metadata": {},
   "outputs": [
    {
     "data": {
      "text/plain": [
       "211"
      ]
     },
     "execution_count": 6,
     "metadata": {},
     "output_type": "execute_result"
    }
   ],
   "source": [
    "train.local_date_str.nunique()"
   ]
  },
  {
   "cell_type": "markdown",
   "metadata": {},
   "source": [
    "The measurements are related to the energy production made by a single producer throughout a period of time which goes from the 21st of may to the 18th of december, for a total of about 7 months (30 * 2 + 31 * 5 = 215 gg)."
   ]
  },
  {
   "cell_type": "code",
   "execution_count": 7,
   "metadata": {},
   "outputs": [
    {
     "data": {
      "text/html": [
       "<div>\n",
       "<style scoped>\n",
       "    .dataframe tbody tr th:only-of-type {\n",
       "        vertical-align: middle;\n",
       "    }\n",
       "\n",
       "    .dataframe tbody tr th {\n",
       "        vertical-align: top;\n",
       "    }\n",
       "\n",
       "    .dataframe thead th {\n",
       "        text-align: right;\n",
       "    }\n",
       "</style>\n",
       "<table border=\"1\" class=\"dataframe\">\n",
       "  <thead>\n",
       "    <tr style=\"text-align: right;\">\n",
       "      <th></th>\n",
       "      <th>index</th>\n",
       "      <th>_id</th>\n",
       "      <th>user_id</th>\n",
       "      <th>local_date_str</th>\n",
       "      <th>datetime</th>\n",
       "      <th>type</th>\n",
       "      <th>generation_kwh</th>\n",
       "      <th>nominal_power_w</th>\n",
       "    </tr>\n",
       "  </thead>\n",
       "  <tbody>\n",
       "    <tr>\n",
       "      <th>0</th>\n",
       "      <td>0</td>\n",
       "      <td>6500634d2838e89d806105d7</td>\n",
       "      <td>ES0184000000051513CQ0FA000</td>\n",
       "      <td>2023-05-22</td>\n",
       "      <td>2023-05-21T22:00:00</td>\n",
       "      <td>b11</td>\n",
       "      <td>0.00</td>\n",
       "      <td>20000</td>\n",
       "    </tr>\n",
       "    <tr>\n",
       "      <th>1</th>\n",
       "      <td>1</td>\n",
       "      <td>6500634d2838e89d806105d6</td>\n",
       "      <td>ES0184000000051513CQ0FA000</td>\n",
       "      <td>2023-05-22</td>\n",
       "      <td>2023-05-21T23:00:00</td>\n",
       "      <td>b11</td>\n",
       "      <td>0.00</td>\n",
       "      <td>20000</td>\n",
       "    </tr>\n",
       "    <tr>\n",
       "      <th>2</th>\n",
       "      <td>2</td>\n",
       "      <td>6500634d2838e89d806105d5</td>\n",
       "      <td>ES0184000000051513CQ0FA000</td>\n",
       "      <td>2023-05-22</td>\n",
       "      <td>2023-05-22T00:00:00</td>\n",
       "      <td>b11</td>\n",
       "      <td>0.00</td>\n",
       "      <td>20000</td>\n",
       "    </tr>\n",
       "    <tr>\n",
       "      <th>3</th>\n",
       "      <td>3</td>\n",
       "      <td>6500634d2838e89d806105d4</td>\n",
       "      <td>ES0184000000051513CQ0FA000</td>\n",
       "      <td>2023-05-22</td>\n",
       "      <td>2023-05-22T01:00:00</td>\n",
       "      <td>b11</td>\n",
       "      <td>0.00</td>\n",
       "      <td>20000</td>\n",
       "    </tr>\n",
       "    <tr>\n",
       "      <th>4</th>\n",
       "      <td>4</td>\n",
       "      <td>6500634d2838e89d806105d3</td>\n",
       "      <td>ES0184000000051513CQ0FA000</td>\n",
       "      <td>2023-05-22</td>\n",
       "      <td>2023-05-22T02:00:00</td>\n",
       "      <td>b11</td>\n",
       "      <td>0.00</td>\n",
       "      <td>20000</td>\n",
       "    </tr>\n",
       "    <tr>\n",
       "      <th>...</th>\n",
       "      <td>...</td>\n",
       "      <td>...</td>\n",
       "      <td>...</td>\n",
       "      <td>...</td>\n",
       "      <td>...</td>\n",
       "      <td>...</td>\n",
       "      <td>...</td>\n",
       "      <td>...</td>\n",
       "    </tr>\n",
       "    <tr>\n",
       "      <th>4995</th>\n",
       "      <td>4995</td>\n",
       "      <td>6581d5c5d2b2610b28925943</td>\n",
       "      <td>ES0184000000051513CQ0FA000</td>\n",
       "      <td>2023-12-18</td>\n",
       "      <td>2023-12-18T13:00:00</td>\n",
       "      <td>b11</td>\n",
       "      <td>15.08</td>\n",
       "      <td>20000</td>\n",
       "    </tr>\n",
       "    <tr>\n",
       "      <th>4996</th>\n",
       "      <td>4996</td>\n",
       "      <td>6581d5c5d2b2610b28925942</td>\n",
       "      <td>ES0184000000051513CQ0FA000</td>\n",
       "      <td>2023-12-18</td>\n",
       "      <td>2023-12-18T14:00:00</td>\n",
       "      <td>b11</td>\n",
       "      <td>14.90</td>\n",
       "      <td>20000</td>\n",
       "    </tr>\n",
       "    <tr>\n",
       "      <th>4997</th>\n",
       "      <td>4997</td>\n",
       "      <td>6581d5c5d2b2610b28925941</td>\n",
       "      <td>ES0184000000051513CQ0FA000</td>\n",
       "      <td>2023-12-18</td>\n",
       "      <td>2023-12-18T15:00:00</td>\n",
       "      <td>b11</td>\n",
       "      <td>13.18</td>\n",
       "      <td>20000</td>\n",
       "    </tr>\n",
       "    <tr>\n",
       "      <th>4998</th>\n",
       "      <td>4998</td>\n",
       "      <td>6581d5c5d2b2610b28925940</td>\n",
       "      <td>ES0184000000051513CQ0FA000</td>\n",
       "      <td>2023-12-18</td>\n",
       "      <td>2023-12-18T16:00:00</td>\n",
       "      <td>b11</td>\n",
       "      <td>9.15</td>\n",
       "      <td>20000</td>\n",
       "    </tr>\n",
       "    <tr>\n",
       "      <th>4999</th>\n",
       "      <td>4999</td>\n",
       "      <td>6581d5c5d2b2610b2892593f</td>\n",
       "      <td>ES0184000000051513CQ0FA000</td>\n",
       "      <td>2023-12-18</td>\n",
       "      <td>2023-12-18T17:00:00</td>\n",
       "      <td>b11</td>\n",
       "      <td>1.78</td>\n",
       "      <td>20000</td>\n",
       "    </tr>\n",
       "  </tbody>\n",
       "</table>\n",
       "<p>5000 rows × 8 columns</p>\n",
       "</div>"
      ],
      "text/plain": [
       "      index                       _id                     user_id  \\\n",
       "0         0  6500634d2838e89d806105d7  ES0184000000051513CQ0FA000   \n",
       "1         1  6500634d2838e89d806105d6  ES0184000000051513CQ0FA000   \n",
       "2         2  6500634d2838e89d806105d5  ES0184000000051513CQ0FA000   \n",
       "3         3  6500634d2838e89d806105d4  ES0184000000051513CQ0FA000   \n",
       "4         4  6500634d2838e89d806105d3  ES0184000000051513CQ0FA000   \n",
       "...     ...                       ...                         ...   \n",
       "4995   4995  6581d5c5d2b2610b28925943  ES0184000000051513CQ0FA000   \n",
       "4996   4996  6581d5c5d2b2610b28925942  ES0184000000051513CQ0FA000   \n",
       "4997   4997  6581d5c5d2b2610b28925941  ES0184000000051513CQ0FA000   \n",
       "4998   4998  6581d5c5d2b2610b28925940  ES0184000000051513CQ0FA000   \n",
       "4999   4999  6581d5c5d2b2610b2892593f  ES0184000000051513CQ0FA000   \n",
       "\n",
       "     local_date_str             datetime type  generation_kwh  nominal_power_w  \n",
       "0        2023-05-22  2023-05-21T22:00:00  b11            0.00            20000  \n",
       "1        2023-05-22  2023-05-21T23:00:00  b11            0.00            20000  \n",
       "2        2023-05-22  2023-05-22T00:00:00  b11            0.00            20000  \n",
       "3        2023-05-22  2023-05-22T01:00:00  b11            0.00            20000  \n",
       "4        2023-05-22  2023-05-22T02:00:00  b11            0.00            20000  \n",
       "...             ...                  ...  ...             ...              ...  \n",
       "4995     2023-12-18  2023-12-18T13:00:00  b11           15.08            20000  \n",
       "4996     2023-12-18  2023-12-18T14:00:00  b11           14.90            20000  \n",
       "4997     2023-12-18  2023-12-18T15:00:00  b11           13.18            20000  \n",
       "4998     2023-12-18  2023-12-18T16:00:00  b11            9.15            20000  \n",
       "4999     2023-12-18  2023-12-18T17:00:00  b11            1.78            20000  \n",
       "\n",
       "[5000 rows x 8 columns]"
      ]
     },
     "execution_count": 7,
     "metadata": {},
     "output_type": "execute_result"
    }
   ],
   "source": [
    "data_col = list(train['data'].values)\n",
    "type = []\n",
    "generation_kwh = []\n",
    "nominal_power_w = []\n",
    "for row in data_col:\n",
    "    type.append(row['type'])\n",
    "    generation_kwh.append(row['generation_kwh'])\n",
    "    nominal_power_w.append(row['nominal_power_w'])\n",
    "train['type'] = type\n",
    "train['generation_kwh'] = generation_kwh\n",
    "train['nominal_power_w'] = nominal_power_w\n",
    "train.drop(['data'], axis = 1, inplace = True)\n",
    "train"
   ]
  },
  {
   "cell_type": "code",
   "execution_count": 8,
   "metadata": {},
   "outputs": [],
   "source": [
    "train.drop(['index', '_id'], axis = 1, inplace = True)"
   ]
  },
  {
   "cell_type": "code",
   "execution_count": 9,
   "metadata": {},
   "outputs": [
    {
     "data": {
      "text/plain": [
       "(1, 1)"
      ]
     },
     "execution_count": 9,
     "metadata": {},
     "output_type": "execute_result"
    }
   ],
   "source": [
    "train.type.nunique(), train.nominal_power_w.nunique()"
   ]
  },
  {
   "cell_type": "code",
   "execution_count": 10,
   "metadata": {},
   "outputs": [
    {
     "name": "stdout",
     "output_type": "stream",
     "text": [
      "<class 'pandas.core.frame.DataFrame'>\n",
      "RangeIndex: 5000 entries, 0 to 4999\n",
      "Data columns (total 6 columns):\n",
      " #   Column           Non-Null Count  Dtype  \n",
      "---  ------           --------------  -----  \n",
      " 0   user_id          5000 non-null   object \n",
      " 1   local_date_str   5000 non-null   object \n",
      " 2   datetime         5000 non-null   object \n",
      " 3   type             5000 non-null   object \n",
      " 4   generation_kwh   5000 non-null   float64\n",
      " 5   nominal_power_w  5000 non-null   int64  \n",
      "dtypes: float64(1), int64(1), object(4)\n",
      "memory usage: 234.5+ KB\n"
     ]
    }
   ],
   "source": [
    "train.info(show_counts = True)"
   ]
  },
  {
   "cell_type": "markdown",
   "metadata": {},
   "source": [
    "No need for imputation of missing values. \n",
    "\n",
    "We need though to impute missing dates, so that is what we are going to do next, before saving the dataset."
   ]
  },
  {
   "cell_type": "code",
   "execution_count": 11,
   "metadata": {},
   "outputs": [],
   "source": [
    "def impute_missing_dates(dataframe):\n",
    "  \"\"\"\n",
    "  Take first and last timestamp available. Create a new index starting from these two values, making sure that the index is \n",
    "  sampled with 1 hour jump. Use ffill to impute the missing values for the dates newly created.\n",
    "  \"\"\"\n",
    "  dataframe = dataframe.set_index(['datetime'])\n",
    "  start_ts = min(dataframe.index)\n",
    "  end_ts = max(dataframe.index)\n",
    "  new_index = pd.date_range(start_ts, end=end_ts, freq=\"1H\")\n",
    "  new_df = dataframe.reindex(new_index, method = \"ffill\")\n",
    "  return new_df"
   ]
  },
  {
   "cell_type": "code",
   "execution_count": 12,
   "metadata": {},
   "outputs": [],
   "source": [
    "train['datetime'] = pd.to_datetime(train['datetime'])\n",
    "train = impute_missing_dates(train)"
   ]
  },
  {
   "cell_type": "markdown",
   "metadata": {},
   "source": [
    "Let's now save the created dataframe into a csv, so that it is easily accessible for the next steps."
   ]
  },
  {
   "cell_type": "code",
   "execution_count": 14,
   "metadata": {},
   "outputs": [],
   "source": [
    "train.to_csv(\"/nfs/home/medoro/DC-anomaly-production/data/datacellar_production.csv\", index = False)"
   ]
  },
  {
   "cell_type": "code",
   "execution_count": null,
   "metadata": {},
   "outputs": [],
   "source": []
  }
 ],
 "metadata": {
  "kernelspec": {
   "display_name": ".venv",
   "language": "python",
   "name": "python3"
  },
  "language_info": {
   "codemirror_mode": {
    "name": "ipython",
    "version": 3
   },
   "file_extension": ".py",
   "mimetype": "text/x-python",
   "name": "python",
   "nbconvert_exporter": "python",
   "pygments_lexer": "ipython3",
   "version": "3.10.12"
  }
 },
 "nbformat": 4,
 "nbformat_minor": 2
}
